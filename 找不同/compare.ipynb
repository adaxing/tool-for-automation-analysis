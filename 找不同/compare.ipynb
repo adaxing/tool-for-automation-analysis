{
 "cells": [
  {
   "cell_type": "code",
   "execution_count": 158,
   "metadata": {},
   "outputs": [],
   "source": [
    "import pandas as pd\n",
    "import numpy as np\n",
    "df1 = pd.read_excel('data1.xlsx')\n",
    "df2 = pd.read_excel('data2.xlsx')"
   ]
  },
  {
   "cell_type": "code",
   "execution_count": 159,
   "metadata": {},
   "outputs": [],
   "source": [
    "def colorCell(df, row=None, column=None, color=\"red\"):\n",
    "    color = f\"background-color: {color}; font-weight: bold\"\n",
    "    dfTemp = pd.DataFrame(\"\", index=df.index, columns=df.columns)\n",
    "    dfTemp.at[row,column] = color\n",
    "    return dfTemp\n",
    "def colnum_string(n):\n",
    "    string = \"\"\n",
    "    while n > 0:\n",
    "        n, remainder = divmod(n - 1, 26)\n",
    "        string = chr(65 + remainder) + string\n",
    "    return string"
   ]
  },
  {
   "cell_type": "code",
   "execution_count": 163,
   "metadata": {},
   "outputs": [],
   "source": [
    "diff = df1.values==df2.values\n",
    "rows, cols = np.where(diff==False)\n",
    "for item in zip(rows,cols):\n",
    "    df1.iloc[item[0], item[1]] = '{} -> {}'.format(df1.iloc[item[0],item[1]], df2.iloc[item[0], item[1]])\n",
    "    df1.style.apply(colorCell(df1, row=item[0], column=colnum_string(item[1]+1), color=\"red\"),axis=None)\n",
    "df1.to_excel('diff2.xlsx', index=False, header=True)\n",
    "\n",
    "\n",
    "\n"
   ]
  },
  {
   "cell_type": "code",
   "execution_count": null,
   "metadata": {},
   "outputs": [],
   "source": []
  },
  {
   "cell_type": "code",
   "execution_count": null,
   "metadata": {},
   "outputs": [],
   "source": []
  }
 ],
 "metadata": {
  "kernelspec": {
   "display_name": "Python 3",
   "language": "python",
   "name": "python3"
  },
  "language_info": {
   "codemirror_mode": {
    "name": "ipython",
    "version": 3
   },
   "file_extension": ".py",
   "mimetype": "text/x-python",
   "name": "python",
   "nbconvert_exporter": "python",
   "pygments_lexer": "ipython3",
   "version": "3.7.6"
  }
 },
 "nbformat": 4,
 "nbformat_minor": 4
}
