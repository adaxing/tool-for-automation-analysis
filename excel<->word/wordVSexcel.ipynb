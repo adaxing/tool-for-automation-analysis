{
 "cells": [
  {
   "cell_type": "code",
   "execution_count": 143,
   "metadata": {},
   "outputs": [],
   "source": [
    "import os\n",
    "desktop_path = os.path.join(os.path.expanduser('~'),'Desktop')\n",
    "path =  os.path.join(desktop_path, 'auto/资料')\n",
    "excel_path = os.path.join(path, '数据.xlsx')\n",
    "docx_path = os.path.join(path, '模板.docx')"
   ]
  },
  {
   "cell_type": "code",
   "execution_count": 65,
   "metadata": {},
   "outputs": [
    {
     "name": "stdout",
     "output_type": "stream",
     "text": [
      "0\n",
      "1\n",
      "2\n",
      "3\n",
      "4\n",
      "5\n",
      "6\n",
      "7\n",
      "8\n",
      "9\n",
      "10\n",
      "11\n",
      "12\n",
      "13\n",
      "14\n",
      "15\n",
      "16\n"
     ]
    }
   ],
   "source": [
    "for j in range(random.randint(10, 30)):\n",
    "    print(j)"
   ]
  },
  {
   "cell_type": "code",
   "execution_count": 144,
   "metadata": {},
   "outputs": [],
   "source": [
    "import datetime\n",
    "from openpyxl import load_workbook\n",
    "workbook = load_workbook(file_path)\n",
    "sheet = workbook.active\n",
    "# title = C+G2+V+P+date+验货报告.dox\n",
    "# Q2\n",
    "SQE = sheet['Q2'].value\n",
    "# G2\n",
    "supplier = sheet['G2'].value\n",
    "# T2\n",
    "product_type = sheet['T2:T10']\n",
    "p_t_v = [str(cell[0].value) for cell in product_type]\n",
    "p_t = ','.join(set(p_t_v))\n",
    "# P\n",
    "product_descr = sheet['P2:P10']\n",
    "p_d_v = [str(cell[0].value) for cell in product_descr]\n",
    "p_d = ','.join(set(p_d_v))\n",
    "pd_title = '&'.join(set(p_d_v))\n",
    "# C\n",
    "order_id = sheet['C2:C10']\n",
    "o_i_v = [str(cell[0].value) for cell in order_id]\n",
    "o_i = ','.join(set(o_i_v))\n",
    "oi_title = '&'.join(set(o_i_v))\n",
    "# current date\n",
    "today = datetime.datetime.today()\n",
    "time = today.strftime('%Y年%m月%d日')\n",
    "# V\n",
    "order_num = sheet['V2:V10']\n",
    "o_n = [int(cell[0].value) for cell in order_num]\n",
    "total_order = sum(o_n)\n",
    "# W\n",
    "packed_box_num = sheet['W2:W10']\n",
    "p_b_n = [int(cell[0].value) for cell in packed_box_num]\n",
    "total_packed = sum(p_b_n)"
   ]
  },
  {
   "cell_type": "code",
   "execution_count": 145,
   "metadata": {},
   "outputs": [],
   "source": [
    "from docx import Document\n",
    "document = Document(docx_path)\n",
    "tables = document.tables"
   ]
  },
  {
   "cell_type": "code",
   "execution_count": 146,
   "metadata": {},
   "outputs": [],
   "source": [
    "tables[0].cell(1,1).text = SQE\n",
    "tables[1].cell(1,1).text = supplier\n",
    "tables[1].cell(2,1).text = supplier\n",
    "tables[1].cell(3,1).text = p_t\n",
    "tables[1].cell(4,1).text = p_d\n",
    "tables[1].cell(5,1).text = o_i\n",
    "tables[1].cell(7,1).text = time"
   ]
  },
  {
   "cell_type": "code",
   "execution_count": 150,
   "metadata": {},
   "outputs": [
    {
     "ename": "TypeError",
     "evalue": "'int' object is not iterable",
     "output_type": "error",
     "traceback": [
      "\u001b[0;31m---------------------------------------------------------------------------\u001b[0m",
      "\u001b[0;31mTypeError\u001b[0m                                 Traceback (most recent call last)",
      "\u001b[0;32m<ipython-input-150-e4623b488273>\u001b[0m in \u001b[0;36m<module>\u001b[0;34m\u001b[0m\n\u001b[1;32m     15\u001b[0m \u001b[0;31m# 条形码\u001b[0m\u001b[0;34m\u001b[0m\u001b[0;34m\u001b[0m\u001b[0;34m\u001b[0m\u001b[0m\n\u001b[1;32m     16\u001b[0m \u001b[0;32mfor\u001b[0m \u001b[0mi\u001b[0m \u001b[0;32min\u001b[0m \u001b[0mrange\u001b[0m\u001b[0;34m(\u001b[0m\u001b[0;36m1\u001b[0m\u001b[0;34m,\u001b[0m \u001b[0;36m11\u001b[0m\u001b[0;34m)\u001b[0m\u001b[0;34m:\u001b[0m\u001b[0;34m\u001b[0m\u001b[0;34m\u001b[0m\u001b[0m\n\u001b[0;32m---> 17\u001b[0;31m     \u001b[0mtables\u001b[0m\u001b[0;34m[\u001b[0m\u001b[0;36m13\u001b[0m\u001b[0;34m]\u001b[0m\u001b[0;34m.\u001b[0m\u001b[0mcell\u001b[0m\u001b[0;34m(\u001b[0m\u001b[0mi\u001b[0m\u001b[0;34m,\u001b[0m\u001b[0;36m0\u001b[0m\u001b[0;34m)\u001b[0m\u001b[0;34m.\u001b[0m\u001b[0mtext\u001b[0m \u001b[0;34m=\u001b[0m \u001b[0msheet\u001b[0m\u001b[0;34m[\u001b[0m\u001b[0;34mf'T{i+1}'\u001b[0m\u001b[0;34m]\u001b[0m\u001b[0;34m.\u001b[0m\u001b[0mvalue\u001b[0m\u001b[0;34m\u001b[0m\u001b[0;34m\u001b[0m\u001b[0m\n\u001b[0m\u001b[1;32m     18\u001b[0m     \u001b[0mtables\u001b[0m\u001b[0;34m[\u001b[0m\u001b[0;36m13\u001b[0m\u001b[0;34m]\u001b[0m\u001b[0;34m.\u001b[0m\u001b[0mcell\u001b[0m\u001b[0;34m(\u001b[0m\u001b[0mi\u001b[0m\u001b[0;34m,\u001b[0m\u001b[0;36m1\u001b[0m\u001b[0;34m)\u001b[0m\u001b[0;34m.\u001b[0m\u001b[0mtext\u001b[0m \u001b[0;34m=\u001b[0m \u001b[0mstr\u001b[0m\u001b[0;34m(\u001b[0m\u001b[0msheet\u001b[0m\u001b[0;34m[\u001b[0m\u001b[0;34mf'U{i+1}'\u001b[0m\u001b[0;34m]\u001b[0m\u001b[0;34m.\u001b[0m\u001b[0mvalue\u001b[0m\u001b[0;34m)\u001b[0m\u001b[0;34m\u001b[0m\u001b[0;34m\u001b[0m\u001b[0m\n\u001b[1;32m     19\u001b[0m     \u001b[0mtables\u001b[0m\u001b[0;34m[\u001b[0m\u001b[0;36m13\u001b[0m\u001b[0;34m]\u001b[0m\u001b[0;34m.\u001b[0m\u001b[0mcell\u001b[0m\u001b[0;34m(\u001b[0m\u001b[0mi\u001b[0m\u001b[0;34m,\u001b[0m\u001b[0;36m2\u001b[0m\u001b[0;34m)\u001b[0m\u001b[0;34m.\u001b[0m\u001b[0mtext\u001b[0m \u001b[0;34m=\u001b[0m \u001b[0mstr\u001b[0m\u001b[0;34m(\u001b[0m\u001b[0msheet\u001b[0m\u001b[0;34m[\u001b[0m\u001b[0;34mf'U{i+1}'\u001b[0m\u001b[0;34m]\u001b[0m\u001b[0;34m.\u001b[0m\u001b[0mvalue\u001b[0m\u001b[0;34m)\u001b[0m\u001b[0;34m\u001b[0m\u001b[0;34m\u001b[0m\u001b[0m\n",
      "\u001b[0;32m~/miniconda3/lib/python3.7/site-packages/docx/table.py\u001b[0m in \u001b[0;36mtext\u001b[0;34m(self, text)\u001b[0m\n\u001b[1;32m    268\u001b[0m         \u001b[0mp\u001b[0m \u001b[0;34m=\u001b[0m \u001b[0mtc\u001b[0m\u001b[0;34m.\u001b[0m\u001b[0madd_p\u001b[0m\u001b[0;34m(\u001b[0m\u001b[0;34m)\u001b[0m\u001b[0;34m\u001b[0m\u001b[0;34m\u001b[0m\u001b[0m\n\u001b[1;32m    269\u001b[0m         \u001b[0mr\u001b[0m \u001b[0;34m=\u001b[0m \u001b[0mp\u001b[0m\u001b[0;34m.\u001b[0m\u001b[0madd_r\u001b[0m\u001b[0;34m(\u001b[0m\u001b[0;34m)\u001b[0m\u001b[0;34m\u001b[0m\u001b[0;34m\u001b[0m\u001b[0m\n\u001b[0;32m--> 270\u001b[0;31m         \u001b[0mr\u001b[0m\u001b[0;34m.\u001b[0m\u001b[0mtext\u001b[0m \u001b[0;34m=\u001b[0m \u001b[0mtext\u001b[0m\u001b[0;34m\u001b[0m\u001b[0;34m\u001b[0m\u001b[0m\n\u001b[0m\u001b[1;32m    271\u001b[0m \u001b[0;34m\u001b[0m\u001b[0m\n\u001b[1;32m    272\u001b[0m     \u001b[0;34m@\u001b[0m\u001b[0mproperty\u001b[0m\u001b[0;34m\u001b[0m\u001b[0;34m\u001b[0m\u001b[0m\n",
      "\u001b[0;32m~/miniconda3/lib/python3.7/site-packages/docx/oxml/text/run.py\u001b[0m in \u001b[0;36mtext\u001b[0;34m(self, text)\u001b[0m\n\u001b[1;32m    102\u001b[0m     \u001b[0;32mdef\u001b[0m \u001b[0mtext\u001b[0m\u001b[0;34m(\u001b[0m\u001b[0mself\u001b[0m\u001b[0;34m,\u001b[0m \u001b[0mtext\u001b[0m\u001b[0;34m)\u001b[0m\u001b[0;34m:\u001b[0m\u001b[0;34m\u001b[0m\u001b[0;34m\u001b[0m\u001b[0m\n\u001b[1;32m    103\u001b[0m         \u001b[0mself\u001b[0m\u001b[0;34m.\u001b[0m\u001b[0mclear_content\u001b[0m\u001b[0;34m(\u001b[0m\u001b[0;34m)\u001b[0m\u001b[0;34m\u001b[0m\u001b[0;34m\u001b[0m\u001b[0m\n\u001b[0;32m--> 104\u001b[0;31m         \u001b[0m_RunContentAppender\u001b[0m\u001b[0;34m.\u001b[0m\u001b[0mappend_to_run_from_text\u001b[0m\u001b[0;34m(\u001b[0m\u001b[0mself\u001b[0m\u001b[0;34m,\u001b[0m \u001b[0mtext\u001b[0m\u001b[0;34m)\u001b[0m\u001b[0;34m\u001b[0m\u001b[0;34m\u001b[0m\u001b[0m\n\u001b[0m\u001b[1;32m    105\u001b[0m \u001b[0;34m\u001b[0m\u001b[0m\n\u001b[1;32m    106\u001b[0m \u001b[0;34m\u001b[0m\u001b[0m\n",
      "\u001b[0;32m~/miniconda3/lib/python3.7/site-packages/docx/oxml/text/run.py\u001b[0m in \u001b[0;36mappend_to_run_from_text\u001b[0;34m(cls, r, text)\u001b[0m\n\u001b[1;32m    132\u001b[0m         \"\"\"\n\u001b[1;32m    133\u001b[0m         \u001b[0mappender\u001b[0m \u001b[0;34m=\u001b[0m \u001b[0mcls\u001b[0m\u001b[0;34m(\u001b[0m\u001b[0mr\u001b[0m\u001b[0;34m)\u001b[0m\u001b[0;34m\u001b[0m\u001b[0;34m\u001b[0m\u001b[0m\n\u001b[0;32m--> 134\u001b[0;31m         \u001b[0mappender\u001b[0m\u001b[0;34m.\u001b[0m\u001b[0madd_text\u001b[0m\u001b[0;34m(\u001b[0m\u001b[0mtext\u001b[0m\u001b[0;34m)\u001b[0m\u001b[0;34m\u001b[0m\u001b[0;34m\u001b[0m\u001b[0m\n\u001b[0m\u001b[1;32m    135\u001b[0m \u001b[0;34m\u001b[0m\u001b[0m\n\u001b[1;32m    136\u001b[0m     \u001b[0;32mdef\u001b[0m \u001b[0madd_text\u001b[0m\u001b[0;34m(\u001b[0m\u001b[0mself\u001b[0m\u001b[0;34m,\u001b[0m \u001b[0mtext\u001b[0m\u001b[0;34m)\u001b[0m\u001b[0;34m:\u001b[0m\u001b[0;34m\u001b[0m\u001b[0;34m\u001b[0m\u001b[0m\n",
      "\u001b[0;32m~/miniconda3/lib/python3.7/site-packages/docx/oxml/text/run.py\u001b[0m in \u001b[0;36madd_text\u001b[0;34m(self, text)\u001b[0m\n\u001b[1;32m    139\u001b[0m         \u001b[0;31m`\u001b[0m\u001b[0;31m`\u001b[0m\u001b[0;34m<\u001b[0m\u001b[0mw\u001b[0m\u001b[0;34m:\u001b[0m\u001b[0mr\u001b[0m\u001b[0;34m>\u001b[0m\u001b[0;31m`\u001b[0m\u001b[0;31m`\u001b[0m \u001b[0melement\u001b[0m \u001b[0mof\u001b[0m \u001b[0mthis\u001b[0m \u001b[0minstance\u001b[0m\u001b[0;34m.\u001b[0m\u001b[0;34m\u001b[0m\u001b[0;34m\u001b[0m\u001b[0m\n\u001b[1;32m    140\u001b[0m         \"\"\"\n\u001b[0;32m--> 141\u001b[0;31m         \u001b[0;32mfor\u001b[0m \u001b[0mchar\u001b[0m \u001b[0;32min\u001b[0m \u001b[0mtext\u001b[0m\u001b[0;34m:\u001b[0m\u001b[0;34m\u001b[0m\u001b[0;34m\u001b[0m\u001b[0m\n\u001b[0m\u001b[1;32m    142\u001b[0m             \u001b[0mself\u001b[0m\u001b[0;34m.\u001b[0m\u001b[0madd_char\u001b[0m\u001b[0;34m(\u001b[0m\u001b[0mchar\u001b[0m\u001b[0;34m)\u001b[0m\u001b[0;34m\u001b[0m\u001b[0;34m\u001b[0m\u001b[0m\n\u001b[1;32m    143\u001b[0m         \u001b[0mself\u001b[0m\u001b[0;34m.\u001b[0m\u001b[0mflush\u001b[0m\u001b[0;34m(\u001b[0m\u001b[0;34m)\u001b[0m\u001b[0;34m\u001b[0m\u001b[0;34m\u001b[0m\u001b[0m\n",
      "\u001b[0;31mTypeError\u001b[0m: 'int' object is not iterable"
     ]
    }
   ],
   "source": [
    "# 数量\n",
    "for i in range(2, 11):\n",
    "    tables[6].cell(i,0).text = str(sheet[f'T{i}'].value)\n",
    "    tables[6].cell(i,1).text = str(sheet[f'P{i}'].value)\n",
    "    tables[6].cell(i,2).text = str(sheet[f'C{i}'].value)\n",
    "    tables[6].cell(i,4).text = str(sheet[f'V{i}'].value)\n",
    "    tables[6].cell(i,5).text = str(sheet[f'V{i}'].value)\n",
    "    tables[6].cell(i,6).text = '0'\n",
    "    tables[6].cell(i,7).text = str(sheet[f'W{i}'].value)\n",
    "    tables[6].cell(i,8).text = '0'\n",
    "tables[6].cell(12,4).text = str(total_order)\n",
    "tables[6].cell(12,5).text = str(total_order)\n",
    "tables[6].cell(12,7).text = str(total_packed)\n",
    "\n",
    "# 条形码\n",
    "for i in range(1, 11):\n",
    "    tables[13].cell(i,0).text = str(sheet[f'T{i+1}'].value)\n",
    "    tables[13].cell(i,1).text = str(sheet[f'U{i+1}'].value)\n",
    "    tables[13].cell(i,2).text = str(sheet[f'U{i+1}'].value)\n",
    "    tables[13].cell(i,3).text = str(sheet[f'U{i+1}'].value)"
   ]
  },
  {
   "cell_type": "code",
   "execution_count": 149,
   "metadata": {},
   "outputs": [
    {
     "name": "stdout",
     "output_type": "stream",
     "text": [
      "\n",
      "文件已生成\n"
     ]
    }
   ],
   "source": [
    "title = f'{oi_title}-{supplier}-{total_order}-{pd_title}-{time}-验货报告'\n",
    "document.save(os.path.join(path, f'{title}.docx'))\n",
    "print('\\n文件已生成')"
   ]
  },
  {
   "cell_type": "code",
   "execution_count": 153,
   "metadata": {},
   "outputs": [],
   "source": [
    "word_path = os.path.join(path, f'{title}.docx')\n",
    "doc2 = Document(word_path)\n",
    "d2_tables = doc2.tables"
   ]
  },
  {
   "cell_type": "code",
   "execution_count": 234,
   "metadata": {},
   "outputs": [],
   "source": [
    "from openpyxl import Workbook\n",
    "wb = Workbook()\n",
    "sheet1 = wb.active\n",
    "sheet1.title = 'info'\n",
    "for i in range(len(tables[1].rows)):\n",
    "    titles = tables[1].cell(i,0).text\n",
    "    values = tables[1].cell(i,1).text\n",
    "    row = [titles, values]\n",
    "    sheet1.append(row)\n",
    "sheet2 = wb.create_sheet(title = '数量')\n",
    "headers = ['sku', '产品描述','订单号','订单数量','已包装','未包装','已包装箱数','未包装箱数']\n",
    "sheet2.append(headers)\n",
    "for i in range(2, 11):\n",
    "    sku = d2_tables[6].cell(i,0).text\n",
    "    产品描述 = d2_tables[6].cell(i,1).text\n",
    "    订单号 = d2_tables[6].cell(i,2).text\n",
    "    订单数量 = d2_tables[6].cell(i,4).text\n",
    "    已包装 = d2_tables[6].cell(i,5).text\n",
    "    未包装 = d2_tables[6].cell(i,6).text\n",
    "    已包装箱数 = d2_tables[6].cell(i,7).text\n",
    "    未包装箱数 = d2_tables[6].cell(i,8).text\n",
    "    row = [int(sku),产品描述,订单号,int(订单数量),int(已包装),int(未包装),int(已包装箱数),int(未包装箱数)]\n",
    "    sheet2.append(row)\n",
    "output_file = os.path.join(os.getcwd(), datetime.datetime.now().strftime('%Y-%m-%d %H:%M')+'.xlsx')\n",
    "wb.save(output_file)"
   ]
  },
  {
   "cell_type": "code",
   "execution_count": 219,
   "metadata": {},
   "outputs": [
    {
     "data": {
      "text/plain": [
       "'/Users/adaxing/Desktop/auto/资料'"
      ]
     },
     "execution_count": 219,
     "metadata": {},
     "output_type": "execute_result"
    }
   ],
   "source": [
    "os.getcwd()"
   ]
  },
  {
   "cell_type": "code",
   "execution_count": 188,
   "metadata": {},
   "outputs": [
    {
     "data": {
      "text/plain": [
       "datetime.datetime(2020, 7, 26, 10, 4, 20, 402783)"
      ]
     },
     "execution_count": 188,
     "metadata": {},
     "output_type": "execute_result"
    }
   ],
   "source": [
    "datetime.datetime.today()"
   ]
  }
 ],
 "metadata": {
  "kernelspec": {
   "display_name": "Python 3",
   "language": "python",
   "name": "python3"
  },
  "language_info": {
   "codemirror_mode": {
    "name": "ipython",
    "version": 3
   },
   "file_extension": ".py",
   "mimetype": "text/x-python",
   "name": "python",
   "nbconvert_exporter": "python",
   "pygments_lexer": "ipython3",
   "version": "3.7.6"
  }
 },
 "nbformat": 4,
 "nbformat_minor": 4
}
