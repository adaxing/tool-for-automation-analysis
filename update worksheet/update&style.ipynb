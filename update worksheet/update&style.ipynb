{
 "cells": [
  {
   "cell_type": "code",
   "execution_count": 99,
   "metadata": {},
   "outputs": [],
   "source": [
    "from openpyxl import load_workbook\n",
    "import xlsxwriter\n",
    "import os\n",
    "import glob\n",
    "import random\n",
    "fname = 'update.xlsx'\n",
    "# if not os.path.isfile(fname):\n",
    "#     xlsxwriter.Workbook(fname).close()   \n",
    "    "
   ]
  },
  {
   "cell_type": "code",
   "execution_count": 103,
   "metadata": {},
   "outputs": [],
   "source": [
    "# fname = glob.glob('*.xls*')[0]\n",
    "wb = load_workbook(filename = fname)\n",
    "source = wb.active"
   ]
  },
  {
   "cell_type": "code",
   "execution_count": 104,
   "metadata": {},
   "outputs": [
    {
     "name": "stdout",
     "output_type": "stream",
     "text": [
      "第1日已完成\n",
      "第2日已完成\n",
      "第3日已完成\n",
      "第4日已完成\n",
      "第5日已完成\n",
      "第6日已完成\n",
      "第7日已完成\n",
      "第8日已完成\n",
      "第9日已完成\n",
      "第10日已完成\n",
      "第11日已完成\n",
      "第12日已完成\n",
      "第13日已完成\n",
      "第14日已完成\n",
      "第15日已完成\n",
      "第16日已完成\n",
      "第17日已完成\n",
      "第18日已完成\n",
      "第19日已完成\n",
      "第20日已完成\n",
      "第21日已完成\n",
      "第22日已完成\n",
      "第23日已完成\n",
      "第24日已完成\n",
      "第25日已完成\n",
      "第26日已完成\n",
      "第27日已完成\n",
      "第28日已完成\n",
      "第29日已完成\n",
      "第30日已完成\n"
     ]
    }
   ],
   "source": [
    "name_lst = ['皮卡丘','小火龙','杰尼龟','妙蛙种子','风速狗','小拳石','飞天螳螂']\n",
    "place_lst = [chr(i).upper() for i in range(97, 123)]\n",
    "activity_lst = ['椭圆机','篮球','足球','羽毛球','跳绳']\n",
    "source_lst = ['朋友介绍','微信聊天','网页弹窗','其他']\n",
    "\n",
    "for i in range(30):\n",
    "    target = wb.copy_worksheet(source)\n",
    "    target.title = f'{i+1}日'\n",
    "    for j in range(random.randint(10, 30)):\n",
    "        for row in target.iter_rows(min_row=3+j, max_row=3+j):\n",
    "            info = [f'{j+1}', f'{i+1}日',f'{random.choice(name_lst)}', f'{random.choice(place_lst)}馆',\n",
    "                   f'{random.choice(activity_lst)}',f'{random.choice(source_lst)}', f'{random.randint(1,10)}', \n",
    "                    '无',f'{random.choice([\"Y\",\"N\"])}',f'{random.choice([\"Y\",\"N\"])}',f'{random.choice([\"Y\",\"N\"])}']\n",
    "            for index, k in enumerate(info):\n",
    "                row[index].value = k\n",
    "    print(f'第{i+1}日已完成')\n",
    "wb.save('r.xlsx')"
   ]
  },
  {
   "cell_type": "code",
   "execution_count": 128,
   "metadata": {},
   "outputs": [],
   "source": [
    "import pandas as pd\n",
    "new_file = 'r.xlsx'\n",
    "workbook = load_workbook(new_file)\n",
    "sheetnames = workbook.sheetnames\n",
    "df_lst = []\n",
    "\n",
    "for i in range(1, len(sheetnames)):\n",
    "    df = pd.read_excel(new_file, encoding='utf-8', sheet_name=i, skiprows=1)\n",
    "    df_lst.append(df)\n",
    "df_total = pd.concat(df_lst, axis=0, ignore_index=True)\n",
    "df_total['编号']= df_total.index + 1\n",
    "df_total.to_excel('汇总表.xlsx', sheet_name='汇总表', index=False)"
   ]
  },
  {
   "cell_type": "code",
   "execution_count": 129,
   "metadata": {},
   "outputs": [
    {
     "data": {
      "text/plain": [
       "[<Worksheet \"sheet1\">,\n",
       " <Worksheet \"1日\">,\n",
       " <Worksheet \"2日\">,\n",
       " <Worksheet \"3日\">,\n",
       " <Worksheet \"4日\">,\n",
       " <Worksheet \"5日\">,\n",
       " <Worksheet \"6日\">,\n",
       " <Worksheet \"7日\">,\n",
       " <Worksheet \"8日\">,\n",
       " <Worksheet \"9日\">,\n",
       " <Worksheet \"10日\">,\n",
       " <Worksheet \"11日\">,\n",
       " <Worksheet \"12日\">,\n",
       " <Worksheet \"13日\">,\n",
       " <Worksheet \"14日\">,\n",
       " <Worksheet \"15日\">,\n",
       " <Worksheet \"16日\">,\n",
       " <Worksheet \"17日\">,\n",
       " <Worksheet \"18日\">,\n",
       " <Worksheet \"19日\">,\n",
       " <Worksheet \"20日\">,\n",
       " <Worksheet \"21日\">,\n",
       " <Worksheet \"22日\">,\n",
       " <Worksheet \"23日\">,\n",
       " <Worksheet \"24日\">,\n",
       " <Worksheet \"25日\">,\n",
       " <Worksheet \"26日\">,\n",
       " <Worksheet \"27日\">,\n",
       " <Worksheet \"28日\">,\n",
       " <Worksheet \"29日\">,\n",
       " <Worksheet \"30日\">]"
      ]
     },
     "execution_count": 129,
     "metadata": {},
     "output_type": "execute_result"
    }
   ],
   "source": [
    "workbook._sheets"
   ]
  },
  {
   "cell_type": "code",
   "execution_count": 130,
   "metadata": {},
   "outputs": [],
   "source": [
    "writer = pd.ExcelWriter(new_file, engine='openpyxl')\n",
    "writer.book = workbook\n",
    "workbook.remove(workbook['sheet1'])\n",
    "df_total.to_excel(excel_writer=writer, sheet_name='汇总表', index=False)\n",
    "writer.close()\n",
    "workbook._sheets.insert(0, workbook._sheets.pop())\n",
    "workbook.save('test.xlsx')"
   ]
  },
  {
   "cell_type": "code",
   "execution_count": 163,
   "metadata": {},
   "outputs": [],
   "source": [
    "from openpyxl.styles import Alignment\n",
    "from openpyxl.styles import Side, Border\n",
    "from openpyxl.styles import Font\n",
    "import re\n",
    "workbook = load_workbook('test.xlsx')\n",
    "sheet = workbook['汇总表']\n",
    "sheet.insert_rows(idx=0)\n",
    "font = Font(name='宋体', size=18, bold=True)\n",
    "sheet['A1'] = '皮卡丘体育2020年06月新学员信息登记表'\n",
    "sheet['A1'].font = font\n",
    "\n",
    "req = ':(\\w)'\n",
    "weight = re.findall(req, sheet.dimensions)[0]\n",
    "sheet.merge_cells(f'A1:{weight}1')\n",
    "\n",
    "alignment = Alignment(horizontal='center', vertical='center')\n",
    "side = Side(style='thin', color='000000')\n",
    "border = Border(left=side, right=side, top=side, bottom=side)\n",
    "\n",
    "rows = sheet[f'{sheet.dimensions}']\n",
    "for row in rows:\n",
    "    for cell in row:\n",
    "        cell.alignment = alignment\n",
    "        cell.border = border\n",
    "\n",
    "sheet.row_dimensions[1].height = 38\n",
    "sheet.row_dimensions[2].height = 38\n",
    "\n",
    "sheet.column_dimensions['A'].width = 8\n",
    "letter_lst = [chr(i+64) for i in range(2, ord(weight)-ord('A')+1+1)]\n",
    "for i in letter_lst:\n",
    "    sheet.column_dimensions[f'{i}'].width = 14\n",
    "workbook.save('汇总表.xlsx')"
   ]
  },
  {
   "cell_type": "code",
   "execution_count": 146,
   "metadata": {},
   "outputs": [
    {
     "data": {
      "text/plain": [
       "'A1:K619'"
      ]
     },
     "execution_count": 146,
     "metadata": {},
     "output_type": "execute_result"
    }
   ],
   "source": [
    "sheet.dimensions"
   ]
  },
  {
   "cell_type": "code",
   "execution_count": 156,
   "metadata": {},
   "outputs": [
    {
     "data": {
      "text/plain": [
       "['B', 'C', 'D', 'E', 'F', 'G', 'H', 'I', 'J', 'K']"
      ]
     },
     "execution_count": 156,
     "metadata": {},
     "output_type": "execute_result"
    }
   ],
   "source": [
    "[chr(i+64) for i in range(2, ord(weight)-ord('A')+1+1)]\n"
   ]
  },
  {
   "cell_type": "code",
   "execution_count": null,
   "metadata": {},
   "outputs": [],
   "source": []
  }
 ],
 "metadata": {
  "kernelspec": {
   "display_name": "Python 3",
   "language": "python",
   "name": "python3"
  },
  "language_info": {
   "codemirror_mode": {
    "name": "ipython",
    "version": 3
   },
   "file_extension": ".py",
   "mimetype": "text/x-python",
   "name": "python",
   "nbconvert_exporter": "python",
   "pygments_lexer": "ipython3",
   "version": "3.7.6"
  }
 },
 "nbformat": 4,
 "nbformat_minor": 4
}
