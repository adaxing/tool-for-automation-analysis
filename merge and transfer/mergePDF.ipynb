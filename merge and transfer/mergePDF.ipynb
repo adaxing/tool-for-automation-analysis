{
 "cells": [
  {
   "cell_type": "code",
   "execution_count": 30,
   "metadata": {},
   "outputs": [],
   "source": [
    "import os\n",
    "files_dir = os.path.join(os.path.expanduser('~'), 'Desktop/imp/证件')\n",
    "                                                                                                                                                                                                                                                                                                                                                                                                    output_file = 'aos_files.pdf'"
   ]
  },
  {
   "cell_type": "code",
   "execution_count": 76,
   "metadata": {},
   "outputs": [],
   "source": [
    "from PyPDF2 import PdfFileReader, PdfFileWriter\n",
    "file_list = [os.path.join(dirpath, file) for dirpath, _, filename in os.walk(files_dir)  for file in filename if file.endswith('.pdf')]\n"
   ]
  },
  {
   "cell_type": "code",
   "execution_count": 67,
   "metadata": {},
   "outputs": [
    {
     "name": "stdout",
     "output_type": "stream",
     "text": [
      "['.DS_Store', 'Untitled.ipynb', '资料', '自动化处理文件夹', '.ipynb_checkpoints']\n",
      "['.DS_Store', 'Untitled.ipynb', '资料', '自动化处理文件夹', '.ipynb_checkpoints']\n"
     ]
    }
   ],
   "source": [
    "for a, b, c in os.walk(files_dir):\n",
    "    if os.path.isdir(a):\n",
    "        print([a for a in os.listdir()])"
   ]
  },
  {
   "cell_type": "code",
   "execution_count": 77,
   "metadata": {},
   "outputs": [
    {
     "data": {
      "text/plain": [
       "['/Users/adaxing/Desktop/imp/证件/all.pdf',\n",
       " '/Users/adaxing/Desktop/imp/证件/护照首页.pdf',\n",
       " '/Users/adaxing/Desktop/imp/证件/resume.pdf',\n",
       " '/Users/adaxing/Desktop/imp/证件/108395488810p.pdf',\n",
       " '/Users/adaxing/Desktop/imp/证件/首次入境.pdf',\n",
       " '/Users/adaxing/Desktop/imp/证件/身份证公证.pdf',\n",
       " '/Users/adaxing/Desktop/imp/证件/Official EVUS Enrollment.pdf',\n",
       " '/Users/adaxing/Desktop/imp/证件/雲端線上申辦.pdf',\n",
       " '/Users/adaxing/Desktop/imp/证件/户口本公证.pdf',\n",
       " '/Users/adaxing/Desktop/imp/证件/Employment Letter.pdf',\n",
       " '/Users/adaxing/Desktop/imp/证件/无犯罪证明.pdf',\n",
       " '/Users/adaxing/Desktop/imp/证件/aos/ainp-aos-application-form.pdf',\n",
       " '/Users/adaxing/Desktop/imp/证件/aos/lbr-ainp-opportunity-stream.pdf',\n",
       " '/Users/adaxing/Desktop/imp/证件/aos/护照首页.pdf',\n",
       " '/Users/adaxing/Desktop/imp/证件/aos/imm5406e.pdf',\n",
       " '/Users/adaxing/Desktop/imp/证件/aos/imm0008enu_2d.pdf',\n",
       " '/Users/adaxing/Desktop/imp/证件/aos/imm5669e.pdf',\n",
       " '/Users/adaxing/Desktop/imp/证件/aos/workpermit.pdf',\n",
       " '/Users/adaxing/Desktop/imp/证件/aos/imm0008_4e.pdf']"
      ]
     },
     "execution_count": 77,
     "metadata": {},
     "output_type": "execute_result"
    }
   ],
   "source": [
    "file_list"
   ]
  },
  {
   "cell_type": "code",
   "execution_count": 81,
   "metadata": {},
   "outputs": [
    {
     "name": "stdout",
     "output_type": "stream",
     "text": [
      "文件: /Users/adaxing/Desktop/imp/证件/all.pdf\n",
      "页数: 3\n",
      "文件: /Users/adaxing/Desktop/imp/证件/护照首页.pdf\n",
      "页数: 1\n",
      "文件: /Users/adaxing/Desktop/imp/证件/resume.pdf\n",
      "页数: 2\n",
      "文件: /Users/adaxing/Desktop/imp/证件/108395488810p.pdf\n",
      "页数: 1\n",
      "文件: /Users/adaxing/Desktop/imp/证件/首次入境.pdf\n",
      "页数: 1\n",
      "文件: /Users/adaxing/Desktop/imp/证件/身份证公证.pdf\n",
      "页数: 4\n",
      "文件: /Users/adaxing/Desktop/imp/证件/Official EVUS Enrollment.pdf\n",
      "页数: 2\n",
      "文件: /Users/adaxing/Desktop/imp/证件/雲端線上申辦.pdf\n",
      "页数: 1\n",
      "文件: /Users/adaxing/Desktop/imp/证件/户口本公证.pdf\n",
      "页数: 11\n",
      "文件: /Users/adaxing/Desktop/imp/证件/Employment Letter.pdf\n",
      "页数: 1\n",
      "文件: /Users/adaxing/Desktop/imp/证件/无犯罪证明.pdf\n",
      "页数: 3\n",
      "文件: /Users/adaxing/Desktop/imp/证件/aos/ainp-aos-application-form.pdf\n",
      "err\n",
      "文件: /Users/adaxing/Desktop/imp/证件/aos/lbr-ainp-opportunity-stream.pdf\n",
      "页数: 5\n",
      "文件: /Users/adaxing/Desktop/imp/证件/aos/护照首页.pdf\n",
      "页数: 1\n",
      "文件: /Users/adaxing/Desktop/imp/证件/aos/imm5406e.pdf\n",
      "err\n",
      "文件: /Users/adaxing/Desktop/imp/证件/aos/imm0008enu_2d.pdf\n",
      "err\n",
      "文件: /Users/adaxing/Desktop/imp/证件/aos/imm5669e.pdf\n",
      "err\n",
      "文件: /Users/adaxing/Desktop/imp/证件/aos/workpermit.pdf\n",
      "页数: 1\n",
      "文件: /Users/adaxing/Desktop/imp/证件/aos/imm0008_4e.pdf\n",
      "err\n",
      "合并后的总页数:37\n",
      "PDF文件正在合并，请稍等。。。。。\n"
     ]
    },
    {
     "name": "stderr",
     "output_type": "stream",
     "text": [
      "PdfReadWarning: Xref table not zero-indexed. ID numbers for objects will be corrected. [pdf.py:1736]\n"
     ]
    },
    {
     "name": "stdout",
     "output_type": "stream",
     "text": [
      "PDF文件合并完成\n"
     ]
    }
   ],
   "source": [
    "output = PdfFileWriter()\n",
    "output_pages = 0\n",
    "for pdf_file in file_list:\n",
    "    try:\n",
    "        print('文件: %s' % pdf_file.split('\\\\')[-1], end='\\n')\n",
    "        input = PdfFileReader(open(pdf_file, 'rb'))\n",
    "        page_num = input.getNumPages()\n",
    "        output_pages += page_num\n",
    "        print('页数: %d' % page_num)\n",
    "        for page in range(page_num):\n",
    "            output.addPage(input.getPage(page))\n",
    "    except:\n",
    "        print('err')\n",
    "print('合并后的总页数:%d' % output_pages)\n",
    "print('PDF文件正在合并，请稍等。。。。。')\n",
    "with open(output_file, 'wb') as f:\n",
    "    output.write(f)\n",
    "print('PDF文件合并完成')"
   ]
  },
  {
   "cell_type": "code",
   "execution_count": null,
   "metadata": {},
   "outputs": [],
   "source": []
  }
 ],
 "metadata": {
  "kernelspec": {
   "display_name": "Python 3",
   "language": "python",
   "name": "python3"
  },
  "language_info": {
   "codemirror_mode": {
    "name": "ipython",
    "version": 3
   },
   "file_extension": ".py",
   "mimetype": "text/x-python",
   "name": "python",
   "nbconvert_exporter": "python",
   "pygments_lexer": "ipython3",
   "version": "3.7.6"
  }
 },
 "nbformat": 4,
 "nbformat_minor": 4
}
