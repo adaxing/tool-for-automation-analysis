{
 "cells": [
  {
   "cell_type": "code",
   "execution_count": 105,
   "metadata": {},
   "outputs": [],
   "source": [
    "from openpyxl import load_workbook, Workbook\n",
    "# path = '采购记录.xlsx'\n",
    "# wb = load_workbook(path)\n",
    "# ws = wb.active\n",
    "\n",
    "def condition(col_letter, amt):\n",
    "    buy_amt = ws[col_letter]\n",
    "    row_idx_lst = []\n",
    "    for cell in buy_amt:\n",
    "        if isinstance(cell.value, int) and cell.value > amt:\n",
    "            row_idx_lst.append(cell.row)\n",
    "    return row_idx_lst\n",
    "\n",
    "def save_new_wb(row_idx_lst, output_path):  \n",
    "    for row in row_idx_lst:\n",
    "        data_lst = []\n",
    "        for cell in ws[row]:\n",
    "            data_lst.append(cell.value)\n",
    "        new_ws.append(data_lst)\n",
    "    new_wb.save(output_path)\n",
    "    return 'Saved file to {}'.format(output_path)"
   ]
  },
  {
   "cell_type": "code",
   "execution_count": 85,
   "metadata": {},
   "outputs": [
    {
     "name": "stdout",
     "output_type": "stream",
     "text": [
      "['(sample)sam_tianchi_mum_baby_tr', 'sheet1']\n"
     ]
    },
    {
     "name": "stderr",
     "output_type": "stream",
     "text": [
      "/Users/adaxing/miniconda3/lib/python3.7/site-packages/ipykernel_launcher.py:19: DeprecationWarning: Call to deprecated function get_sheet_by_name (Use wb[sheetname]).\n",
      "/Users/adaxing/miniconda3/lib/python3.7/site-packages/ipykernel_launcher.py:20: DeprecationWarning: Call to deprecated function remove_sheet (Use wb.remove(worksheet) or del wb[sheetname]).\n"
     ]
    },
    {
     "name": "stdout",
     "output_type": "stream",
     "text": [
      "['(sample)sam_tianchi_mum_baby_tr', 'sheet1']\n",
      "['(sample)sam_tianchi_mum_baby_tr', 'sheet1']\n",
      "['(sample)sam_tianchi_mum_baby_tr', 'sheet1']\n",
      "['(sample)sam_tianchi_mum_baby_tr', 'sheet1']\n",
      "['(sample)sam_tianchi_mum_baby_tr', 'sheet1']\n",
      "['(sample)sam_tianchi_mum_baby_tr', 'sheet1']\n",
      "['(sample)sam_tianchi_mum_baby_tr', 'sheet1']\n",
      "['(sample)sam_tianchi_mum_baby_tr', 'sheet1']\n"
     ]
    }
   ],
   "source": [
    "import os\n",
    "import glob\n",
    "import openpyxl\n",
    "new_path = '进阶'\n",
    "if not os.path.exists(new_path):\n",
    "    os.mkdir(new_path)\n",
    "    \n",
    "i = 1\n",
    "for i in range(1, 10):\n",
    "    wb = openpyxl.load_workbook('采购记录.xlsx')\n",
    "    source = wb['(sample)sam_tianchi_mum_baby_tr']\n",
    "    target = wb.copy_worksheet(source)\n",
    "    target.title = 'sheet1'\n",
    "    sheets = wb.sheetnames\n",
    "    for s in sheets:\n",
    "        if s!='sheet1':\n",
    "            sheet_name = wb[s]\n",
    "            wb.remove(sheet_name)\n",
    "    wb.save(f'{new_path}/采购记录{i}.xlsx')\n",
    "    i += 1"
   ]
  },
  {
   "cell_type": "code",
   "execution_count": 123,
   "metadata": {},
   "outputs": [],
   "source": [
    "output_path = '符合筛选条件1.xlsx'\n",
    "new_wb = Workbook()\n",
    "new_ws = new_wb.active\n",
    "\n",
    "for file_path in glob.glob('进阶/*'):\n",
    "    wb = load_workbook(file_path)\n",
    "    ws = wb.active\n",
    "    row_idx_lst = condition('F', 50)\n",
    "    \n",
    "    header = ws[1]\n",
    "    header_lst = []\n",
    "    for cell in header:\n",
    "        header_lst.append(cell.value)\n",
    "    for cell in new_ws[1]:\n",
    "        if cell.value:\n",
    "            new_ws.append(header_lst)\n",
    "    for row in row_idx_lst:\n",
    "        data_lst = []\n",
    "        for cell in ws[row]:\n",
    "            data_lst.append(cell.value)\n",
    "        new_ws.append(data_lst)\n",
    "new_wb.save(output_path)\n",
    "\n",
    "\n",
    "\n"
   ]
  },
  {
   "cell_type": "code",
   "execution_count": 83,
   "metadata": {},
   "outputs": [
    {
     "data": {
      "text/plain": [
       "<Worksheet \"(sample)sam_tianchi_mum_baby_tr\">"
      ]
     },
     "execution_count": 83,
     "metadata": {},
     "output_type": "execute_result"
    }
   ],
   "source": [
    "wb.worksheets[0]"
   ]
  },
  {
   "cell_type": "code",
   "execution_count": 121,
   "metadata": {},
   "outputs": [
    {
     "name": "stdout",
     "output_type": "stream",
     "text": [
      "ff\n",
      "ff\n",
      "ff\n"
     ]
    }
   ],
   "source": [
    "test = load_workbook('test.xlsx')\n",
    "t =test.active\n",
    "for cell in t[1]:\n",
    "    if not cell.value:\n",
    "        print('ff')\n"
   ]
  },
  {
   "cell_type": "code",
   "execution_count": null,
   "metadata": {},
   "outputs": [],
   "source": []
  }
 ],
 "metadata": {
  "kernelspec": {
   "display_name": "Python 3",
   "language": "python",
   "name": "python3"
  },
  "language_info": {
   "codemirror_mode": {
    "name": "ipython",
    "version": 3
   },
   "file_extension": ".py",
   "mimetype": "text/x-python",
   "name": "python",
   "nbconvert_exporter": "python",
   "pygments_lexer": "ipython3",
   "version": "3.7.6"
  }
 },
 "nbformat": 4,
 "nbformat_minor": 4
}
