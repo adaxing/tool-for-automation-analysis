{
 "cells": [
  {
   "cell_type": "code",
   "execution_count": 171,
   "metadata": {},
   "outputs": [],
   "source": [
    "import os\n",
    "import glob\n",
    "from pathlib import Path\n",
    "import re\n",
    "import pandas as pd\n",
    "from datetime import datetime\n",
    "file_list = Path('热搜数据').glob('**/*.md')\n",
    "morning_list = list(filter(lambda x: str(x).find('11')!=-1 & str(x).find('checkpoint')==-1, file_list))\n",
    "evening_list = list(filter(lambda x: str(x).find('23点')!=-1 & str(x).find('checkpoint')==-1, file_list))"
   ]
  },
  {
   "cell_type": "code",
   "execution_count": 177,
   "metadata": {},
   "outputs": [],
   "source": [
    "def collect_md_to_pd(file_list):\n",
    "    df = pd.DataFrame(columns=['时间','热搜','热度'])\n",
    "    for file in file_list:\n",
    "        with open(file) as f:\n",
    "            lines = f.readlines()\n",
    "            lines = [i.strip() for i in lines]\n",
    "            data = list(filter(None, lines))\n",
    "            del data[0]\n",
    "            data = data[0:100]\n",
    "            rank = data[1::2]\n",
    "            content = data[::2]\n",
    "            time = re.findall(r'日/(.+)\\.', str(file))[0]\n",
    "            for i in range(len(content)):\n",
    "                content[i] = re.findall('、(.+)', content[i])[0]\n",
    "            for i in range(len(rank)):\n",
    "                rank[i] = re.findall(' (.+)', rank[i])[0]\n",
    "            dict = {'热搜': content, '热度': rank}\n",
    "            df1 = pd.DataFrame(dict)\n",
    "            df1.insert(0, '时间', time)\n",
    "            df = df.append(df1)\n",
    "    return df"
   ]
  },
  {
   "cell_type": "code",
   "execution_count": 180,
   "metadata": {},
   "outputs": [],
   "source": [
    "from openpyxl import load_workbook\n",
    "path = '总结.xlsx'\n",
    "book = load_workbook(path)\n",
    "writer = pd.ExcelWriter(path, engine='openpyxl')\n",
    "writer.book = book\n",
    "new = collect_md_to_pd(morning_list).sort_values(by='时间', ascending=True).reset_index(drop=True)\n",
    "date = datetime.now().strftime('%y-%m-%d %H-%M-%S')\n",
    "new.to_excel(writer, sheet_name=date, index=False)\n",
    "writer.save()"
   ]
  },
  {
   "cell_type": "code",
   "execution_count": null,
   "metadata": {},
   "outputs": [],
   "source": [
    "df.to_excel('总结.xlsx', sheet_name=date, index=False)"
   ]
  }
 ],
 "metadata": {
  "kernelspec": {
   "display_name": "Python 3",
   "language": "python",
   "name": "python3"
  },
  "language_info": {
   "codemirror_mode": {
    "name": "ipython",
    "version": 3
   },
   "file_extension": ".py",
   "mimetype": "text/x-python",
   "name": "python",
   "nbconvert_exporter": "python",
   "pygments_lexer": "ipython3",
   "version": "3.7.6"
  }
 },
 "nbformat": 4,
 "nbformat_minor": 4
}
